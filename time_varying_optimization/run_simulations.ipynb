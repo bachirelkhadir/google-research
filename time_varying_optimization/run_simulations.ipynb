{
 "cells": [
  {
   "cell_type": "code",
   "execution_count": 1,
   "metadata": {
    "collapsed": true
   },
   "outputs": [],
   "source": [
    "shape = 'Angle'\n",
    "dataset = 'lasa_dataset/{shape}.mat'.format(shape=shape)\n",
    "matlab_export_file = shape + '.m'\n",
    "deg_p = 4\n",
    "deg_f = 4\n",
    "alpha_p = 1e-8\n",
    "alpha_f = 1e-8\n",
    "make_zero_at_end = False\n",
    "tau = 0."
   ]
  },
  {
   "cell_type": "code",
   "execution_count": null,
   "metadata": {},
   "outputs": [],
   "source": [
    "import numpy as np\n",
    "import pandas as pd\n",
    "import learn_vectorfield_from_data\n",
    "from importlib import reload\n",
    "\n",
    "# plotting\n",
    "import matplotlib.pyplot as plt\n",
    "%matplotlib inline\n",
    "\n",
    "# logger\n",
    "import logging\n",
    "logger = logging.getLogger()\n",
    "logger.setLevel(logging.ERROR)\n",
    "\n",
    "# matlab\n",
    "import matlab.engine\n",
    "try:\n",
    "    eng = matlab.engine.connect_matlab('shared_davisson')\n",
    "except matlab.engine.EngineError:\n",
    "    print('Engine already connected or not able to connect')"
   ]
  },
  {
   "cell_type": "code",
   "execution_count": null,
   "metadata": {
    "scrolled": true
   },
   "outputs": [],
   "source": [
    "# learn the optimal contracting vector field\n",
    "\n",
    "tracking_error, opt_vf = learn_vectorfield_from_data.learn_and_output(dataset, \n",
    "                                             matlab_export_file, \n",
    "                                             deg_p, \n",
    "                                             deg_f, \n",
    "                                             alpha_p, \n",
    "                                             alpha_f, \n",
    "                                             tau,\n",
    "                                             make_zero_at_end)"
   ]
  },
  {
   "cell_type": "code",
   "execution_count": null,
   "metadata": {},
   "outputs": [],
   "source": [
    "# load dataset\n",
    "\n",
    "demo = eng.load(dataset)\n",
    "for k, v in demo.items():\n",
    "    print('Loading item', k)\n",
    "    eng.workspace[k] = v\n",
    "\n",
    "# run evaluation metrics\n",
    "print('Running LfD evaluation')    \n",
    "matlab_result = eng.eval(\"lfd_evaluation(@{shape}, demos, 0)\"\\\n",
    "                         .format(shape=shape))\n",
    "print('End evaluation')"
   ]
  },
  {
   "cell_type": "code",
   "execution_count": null,
   "metadata": {},
   "outputs": [],
   "source": [
    "# visualize the vector field\n",
    "def py_to_mat_array(x):\n",
    "    x = list(map(list, x))\n",
    "    s = str(x).replace('],', '];')\n",
    "    return s\n",
    "\n",
    "from scipy.integrate import odeint\n",
    "def integrate_trajectory(f, x_0, T):\n",
    "    f_t = lambda x, t: f([x])[0]\n",
    "    vf_path = odeint(f_t, x_0, T, )\n",
    "    return vf_path\n",
    "\n",
    "f  = lambda x: np.array(eng.eval('{f}({x})'\\\n",
    "                                 .format(f=shape, \n",
    "                                x=py_to_mat_array(x))))\n",
    "demo_i = np.array(demo['demos'][0]['pos'])\n",
    "x_0 = demo_i[:, 0]\n",
    "T = np.array(demo['demos'][0]['t']).squeeze()\n",
    "vf_path = integrate_trajectory(f, x_0, T)\n",
    "plt.scatter(*demo_i, s=1, c='r')\n",
    "plt.plot(*vf_path.T, c='g')\n",
    "limits = list(plt.xlim()) + list(plt.ylim())\n",
    "learn_vectorfield_from_data.visualize_vf(f, limits)"
   ]
  },
  {
   "cell_type": "code",
   "execution_count": null,
   "metadata": {},
   "outputs": [],
   "source": [
    "# How well does the dynamical system represent the demonstrations?\n",
    "keys  = 'trajectory_error velocity_error distance_to_goal'.split()\n",
    "# How long does it take to hit the target\n",
    "keys += 'dtwd_at_30T duration_to_goal'.split()\n",
    "pd.DataFrame({k: np.array(matlab_result[k])[0] for k in keys})          "
   ]
  },
  {
   "cell_type": "code",
   "execution_count": null,
   "metadata": {},
   "outputs": [],
   "source": [
    "grid_dtwd = np.array(matlab_result['grid_dtwd'])\n",
    "columns = ['demo_{i}'.format(i=i) for i in range(grid_dtwd.shape[1])]\n",
    "rows = ['x0_{i}'.format(i=i) for i in range(grid_dtwd.shape[0])]\n",
    "print('grid_dtwd')\n",
    "pd.DataFrame(grid_dtwd, columns=columns, index=rows).round(1)"
   ]
  }
 ],
 "metadata": {
  "kernelspec": {
   "display_name": "Python (tvsdp)",
   "language": "python",
   "name": "tvsdp"
  },
  "language_info": {
   "codemirror_mode": {
    "name": "ipython",
    "version": 3
   },
   "file_extension": ".py",
   "mimetype": "text/x-python",
   "name": "python",
   "nbconvert_exporter": "python",
   "pygments_lexer": "ipython3",
   "version": "3.6.6"
  }
 },
 "nbformat": 4,
 "nbformat_minor": 2
}
